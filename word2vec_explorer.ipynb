{
 "cells": [
  {
   "cell_type": "code",
   "execution_count": 1,
   "id": "9d6e76d9",
   "metadata": {},
   "outputs": [],
   "source": [
    "from gensim.test.utils import common_texts\n",
    "from gensim.models import Word2Vec\n",
    "import gensim.downloader"
   ]
  },
  {
   "cell_type": "code",
   "execution_count": 2,
   "id": "dd4da2a0",
   "metadata": {},
   "outputs": [
    {
     "name": "stdout",
     "output_type": "stream",
     "text": [
      "['fasttext-wiki-news-subwords-300', 'conceptnet-numberbatch-17-06-300', 'word2vec-ruscorpora-300', 'word2vec-google-news-300', 'glove-wiki-gigaword-50', 'glove-wiki-gigaword-100', 'glove-wiki-gigaword-200', 'glove-wiki-gigaword-300', 'glove-twitter-25', 'glove-twitter-50', 'glove-twitter-100', 'glove-twitter-200', '__testing_word2vec-matrix-synopsis']\n"
     ]
    }
   ],
   "source": [
    "print(list(gensim.downloader.info()['models'].keys()))"
   ]
  },
  {
   "cell_type": "code",
   "execution_count": 8,
   "id": "58c15b3d",
   "metadata": {},
   "outputs": [],
   "source": [
    "glove_wiki_vectors = gensim.downloader.load('glove-wiki-gigaword-300')\n",
    "# TODO figure out load\n",
    "# glove_wiki_vectors = Word2Vec.load(\"word2vec.model\")"
   ]
  },
  {
   "cell_type": "code",
   "execution_count": 15,
   "id": "f3c03761",
   "metadata": {},
   "outputs": [],
   "source": [
    "word2vec_vectors = gensim.downloader.load('word2vec-google-news-300')\n",
    "# TODO\n",
    "# word2vec_vectors = word2vec_vectors.load(\"word2vec.wordvectors\")"
   ]
  },
  {
   "cell_type": "code",
   "execution_count": 16,
   "id": "26d62a29",
   "metadata": {},
   "outputs": [],
   "source": [
    "# glove_wiki_vectors.most_similar('wimbledon', topn=10)"
   ]
  },
  {
   "cell_type": "code",
   "execution_count": 25,
   "id": "592588de",
   "metadata": {},
   "outputs": [
    {
     "data": {
      "text/plain": [
       "[('tow_trucks', 0.7181704640388489),\n",
       " ('tow_truck_operator', 0.7087052464485168),\n",
       " ('tow_truck_driver', 0.6866458058357239),\n",
       " ('cab', 0.6238314509391785),\n",
       " ('wrecker', 0.6219523549079895),\n",
       " ('Tow_trucks', 0.6169867515563965),\n",
       " ('Towing', 0.6120024919509888),\n",
       " ('towing', 0.6006436347961426),\n",
       " ('truck', 0.5998103618621826),\n",
       " ('flatbed_wrecker', 0.5937477946281433)]"
      ]
     },
     "execution_count": 25,
     "metadata": {},
     "output_type": "execute_result"
    }
   ],
   "source": [
    "word2vec_vectors.most_similar('tow_truck')"
   ]
  },
  {
   "cell_type": "code",
   "execution_count": 18,
   "id": "8bbb0078",
   "metadata": {},
   "outputs": [],
   "source": [
    "# word2vec_vectors.most_similar(positive=['press', 'force'])"
   ]
  },
  {
   "cell_type": "code",
   "execution_count": 19,
   "id": "bb8d9aa6-a88e-43b2-8be9-66bf221a9389",
   "metadata": {},
   "outputs": [],
   "source": [
    "from main import *"
   ]
  },
  {
   "cell_type": "code",
   "execution_count": 20,
   "id": "94f49132",
   "metadata": {},
   "outputs": [],
   "source": [
    "reds = [\"plate\", \"straw\", \"press\", \"force\", \"laser\", \"scorpion\", \"day\", \"washer\", \"mass\"]\n",
    "\n",
    "blues = [\"hood\", \"bow\", \"cell\", \"scale\", \"ambulance\", \"thumb\", \"turkey\", \"fair\"]\n",
    "\n",
    "black = \"theatre\"\n",
    "neutrals = [\"cross\", \"point\", \"bell\", \"pass\", \"bottle\", \"wave\", \"revolution\"]\n",
    "\n",
    "word_vectors = word2vec_vectors\n",
    "\n",
    "board = CodenameBoard(reds, blues, neutrals, black, word_vectors)"
   ]
  },
  {
   "cell_type": "code",
   "execution_count": 21,
   "id": "9b72bdc9",
   "metadata": {},
   "outputs": [
    {
     "data": {
      "text/plain": [
       "\"\\nStrategies\\n\\n1: find pair that's most similar of your cards unless there's only one left\\n\\n\""
      ]
     },
     "execution_count": 21,
     "metadata": {},
     "output_type": "execute_result"
    }
   ],
   "source": [
    "\"\"\"\n",
    "Strategies\n",
    "\n",
    "1: find pair that's most similar of your cards unless there's only one left\n",
    "\n",
    "\"\"\""
   ]
  },
  {
   "cell_type": "code",
   "execution_count": 24,
   "id": "ef8ad63d",
   "metadata": {},
   "outputs": [
    {
     "name": "stdout",
     "output_type": "stream",
     "text": [
      "tow_truck for 2 with similarity score: 0.5879373550415039\n"
     ]
    },
    {
     "data": {
      "text/plain": [
       "('tow_truck', 2)"
      ]
     },
     "execution_count": 24,
     "metadata": {},
     "output_type": "execute_result"
    }
   ],
   "source": [
    "board.give_clue(\"blue\")"
   ]
  },
  {
   "cell_type": "code",
   "execution_count": 23,
   "id": "1135e774-dfb2-4108-a3f4-ce1c1bb0181a",
   "metadata": {},
   "outputs": [
    {
     "data": {
      "text/plain": [
       "['plate',\n",
       " 'straw',\n",
       " 'press',\n",
       " 'force',\n",
       " 'laser',\n",
       " 'scorpion',\n",
       " 'day',\n",
       " 'washer',\n",
       " 'mass',\n",
       " 'hood',\n",
       " 'bow',\n",
       " 'cell',\n",
       " 'scale',\n",
       " 'ambulance',\n",
       " 'thumb',\n",
       " 'turkey',\n",
       " 'fair',\n",
       " 'theatre',\n",
       " 'cross',\n",
       " 'point',\n",
       " 'bell',\n",
       " 'pass',\n",
       " 'bottle',\n",
       " 'wave',\n",
       " 'revolution']"
      ]
     },
     "execution_count": 23,
     "metadata": {},
     "output_type": "execute_result"
    }
   ],
   "source": [
    "reds + blues + [black] + neutrals"
   ]
  },
  {
   "cell_type": "code",
   "execution_count": null,
   "id": "bc6766f5-0b45-4fc4-a28b-c2c14b67f4b1",
   "metadata": {},
   "outputs": [],
   "source": []
  }
 ],
 "metadata": {
  "kernelspec": {
   "display_name": "Python 3 (ipykernel)",
   "language": "python",
   "name": "python3"
  },
  "language_info": {
   "codemirror_mode": {
    "name": "ipython",
    "version": 3
   },
   "file_extension": ".py",
   "mimetype": "text/x-python",
   "name": "python",
   "nbconvert_exporter": "python",
   "pygments_lexer": "ipython3",
   "version": "3.7.3"
  }
 },
 "nbformat": 4,
 "nbformat_minor": 5
}
