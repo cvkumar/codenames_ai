{
 "cells": [
  {
   "cell_type": "code",
   "execution_count": 1,
   "id": "9eb4804a-3a7e-4521-a847-d6d51358d213",
   "metadata": {},
   "outputs": [],
   "source": [
    "from gensim.test.utils import common_texts\n",
    "from gensim.models import Word2Vec\n",
    "import gensim.downloader"
   ]
  },
  {
   "cell_type": "code",
   "execution_count": 3,
   "id": "bb50359c-4adc-47b2-b2b4-0483ff280609",
   "metadata": {},
   "outputs": [
    {
     "name": "stdout",
     "output_type": "stream",
     "text": [
      "['fasttext-wiki-news-subwords-300', 'conceptnet-numberbatch-17-06-300', 'word2vec-ruscorpora-300', 'word2vec-google-news-300', 'glove-wiki-gigaword-50', 'glove-wiki-gigaword-100', 'glove-wiki-gigaword-200', 'glove-wiki-gigaword-300', 'glove-twitter-25', 'glove-twitter-50', 'glove-twitter-100', 'glove-twitter-200', '__testing_word2vec-matrix-synopsis']\n"
     ]
    }
   ],
   "source": [
    "print(list(gensim.downloader.info()['models'].keys()))"
   ]
  },
  {
   "cell_type": "code",
   "execution_count": 4,
   "id": "86cf6b30-99f5-43db-a1ce-4f1ba42baeac",
   "metadata": {},
   "outputs": [],
   "source": [
    "# glove_wiki_vectors = gensim.downloader.load('glove-wiki-gigaword-300')\n",
    "glove_wiki_vectors = glove_wiki_vectors.load(\"glove_wiki.wordvectors\")"
   ]
  },
  {
   "cell_type": "code",
   "execution_count": 5,
   "id": "1ad33195-bfc1-4cc0-b432-6b85d9eb9764",
   "metadata": {},
   "outputs": [],
   "source": [
    "# word2vec_vectors = gensim.downloader.load('word2vec-google-news-300')\n",
    "word2vec_vectors = word2vec_vectors.load(\"word2vec.wordvectors\")"
   ]
  },
  {
   "cell_type": "code",
   "execution_count": 22,
   "id": "1dcce622-8efe-430f-b300-9902a49b5703",
   "metadata": {},
   "outputs": [
    {
     "data": {
      "text/plain": [
       "[('garros', 0.6509397029876709),\n",
       " ('slam', 0.6439610123634338),\n",
       " ('federer', 0.6419945955276489),\n",
       " ('sampras', 0.6416308283805847),\n",
       " ('agassi', 0.6311697363853455),\n",
       " ('tennis', 0.6204349398612976),\n",
       " ('quarterfinals', 0.6106903553009033),\n",
       " ('serena', 0.6104817986488342),\n",
       " ('nadal', 0.5988168120384216),\n",
       " ('roddick', 0.5906835794448853)]"
      ]
     },
     "execution_count": 22,
     "metadata": {},
     "output_type": "execute_result"
    }
   ],
   "source": [
    "glove_wiki_vectors.most_similar('wimbledon', topn=10)"
   ]
  },
  {
   "cell_type": "code",
   "execution_count": 23,
   "id": "b011134b-34cc-4120-86c2-b8bdbc4ba9ba",
   "metadata": {},
   "outputs": [
    {
     "data": {
      "text/plain": [
       "[('cats', 0.8099379539489746),\n",
       " ('dog', 0.760945737361908),\n",
       " ('kitten', 0.7464985251426697),\n",
       " ('feline', 0.7326234579086304),\n",
       " ('beagle', 0.7150582671165466),\n",
       " ('puppy', 0.7075453400611877),\n",
       " ('pup', 0.6934291124343872),\n",
       " ('pet', 0.6891531348228455),\n",
       " ('felines', 0.6755931973457336),\n",
       " ('chihuahua', 0.6709762215614319)]"
      ]
     },
     "execution_count": 23,
     "metadata": {},
     "output_type": "execute_result"
    }
   ],
   "source": [
    "word2vec_vectors.most_similar('cat', topn=10)"
   ]
  },
  {
   "cell_type": "code",
   "execution_count": 46,
   "id": "aaad6fc5-ce51-4b89-a5af-8b3bb810cb81",
   "metadata": {},
   "outputs": [
    {
     "data": {
      "text/plain": [
       "[('media', 0.4768681824207306),\n",
       " ('Shams_ul_Safa_Aminzai', 0.46831560134887695),\n",
       " ('reporters', 0.4317282736301422),\n",
       " ('spokesman_Yasuhide_Yamashiro', 0.4157699644565582),\n",
       " ('secretary_Natalia_Timakova', 0.4086681008338928),\n",
       " ('secretary_Joanna_Doven', 0.40852242708206177),\n",
       " ('secretary_Shawn_Feddeman', 0.4080406725406647),\n",
       " ('journalists', 0.4048212766647339),\n",
       " ('corps', 0.39998164772987366),\n",
       " ('Captain_Ramon_Zagala', 0.3983611464500427)]"
      ]
     },
     "execution_count": 46,
     "metadata": {},
     "output_type": "execute_result"
    }
   ],
   "source": [
    "word2vec_vectors.most_similar(positive=['press', 'force'])"
   ]
  },
  {
   "cell_type": "code",
   "execution_count": 44,
   "id": "36b4fb32-68a2-4057-9324-8298b63d6019",
   "metadata": {},
   "outputs": [],
   "source": [
    "test = (word2vec_vectors['coffee'] + word2vec_vectors['tea']) / 2"
   ]
  },
  {
   "cell_type": "code",
   "execution_count": 45,
   "id": "afb0286f-76d4-4a0c-a29c-ea341834ba1f",
   "metadata": {},
   "outputs": [
    {
     "data": {
      "text/plain": [
       "[('tea', 0.8971489667892456),\n",
       " ('coffee', 0.8704795241355896),\n",
       " ('teas', 0.697168231010437),\n",
       " ('Tea', 0.679539680480957),\n",
       " ('o_joe', 0.6554659008979797),\n",
       " ('herbal_tea', 0.6541796326637268),\n",
       " ('coffees', 0.6420055627822876),\n",
       " ('Coffee', 0.6365256905555725),\n",
       " ('iced_tea', 0.6174354553222656),\n",
       " ('chai_tea', 0.6166993975639343)]"
      ]
     },
     "execution_count": 45,
     "metadata": {},
     "output_type": "execute_result"
    }
   ],
   "source": [
    "word2vec_vectors.most_similar(test)"
   ]
  },
  {
   "cell_type": "code",
   "execution_count": null,
   "id": "331fc77e-dba7-4363-aabd-e859a96cbcc1",
   "metadata": {},
   "outputs": [],
   "source": []
  },
  {
   "cell_type": "code",
   "execution_count": null,
   "id": "1021cb6a-32ab-4312-b8ae-3f9a710e3792",
   "metadata": {},
   "outputs": [],
   "source": []
  }
 ],
 "metadata": {
  "kernelspec": {
   "display_name": "Python 3 (ipykernel)",
   "language": "python",
   "name": "python3"
  },
  "language_info": {
   "codemirror_mode": {
    "name": "ipython",
    "version": 3
   },
   "file_extension": ".py",
   "mimetype": "text/x-python",
   "name": "python",
   "nbconvert_exporter": "python",
   "pygments_lexer": "ipython3",
   "version": "3.7.3"
  }
 },
 "nbformat": 4,
 "nbformat_minor": 5
}
